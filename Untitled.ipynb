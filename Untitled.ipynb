{
 "cells": [
  {
   "cell_type": "code",
   "execution_count": 1,
   "id": "82dd6d7c-a2cf-442b-9ada-7fd45bda414f",
   "metadata": {},
   "outputs": [],
   "source": [
    "import numpy as np"
   ]
  },
  {
   "cell_type": "code",
   "execution_count": 2,
   "id": "137ec309-1b2b-4334-a19c-d54a6c58252a",
   "metadata": {},
   "outputs": [
    {
     "name": "stdout",
     "output_type": "stream",
     "text": [
      "No arguments given, plane at origin with normal (0, 0, 1) initialised! Tread carefully!\n"
     ]
    }
   ],
   "source": [
    "from components import *"
   ]
  },
  {
   "cell_type": "code",
   "execution_count": 6,
   "id": "f595f816-1fa2-4bf4-aa34-d82a9017705e",
   "metadata": {},
   "outputs": [
    {
     "name": "stdout",
     "output_type": "stream",
     "text": [
      "voffset\n",
      "20\n",
      "hoffset\n",
      "0\n",
      "axis_voffset\n",
      "0\n",
      "axis_hoffset\n",
      "0\n",
      "theta\n",
      "30\n",
      "line_density\n",
      "1100\n",
      "energy\n",
      "80\n",
      "cff\n",
      "2.25\n",
      "order\n",
      "1\n"
     ]
    }
   ],
   "source": [
    "mirror = Plane_Mirror.mirror_from_file('config_pgm.ini')\n",
    "grating = Grating.grating_from_file('config_pgm.ini')"
   ]
  },
  {
   "cell_type": "code",
   "execution_count": 7,
   "id": "4d71ca89-3554-437b-9d44-c928fb2758ac",
   "metadata": {},
   "outputs": [
    {
     "name": "stdout",
     "output_type": "stream",
     "text": [
      "Plane_Mirror(voffset=20.0, \n",
      "        hoffset=0.0, \n",
      "        axis_voffset=0.0, \n",
      "        axis_hoffset=0.0, \n",
      "        length=150.0, \n",
      "        width=40.0, \n",
      "        height=50.0, \n",
      "        plane=Plane(point=Point3D(x=-35.0, y=-14.142135623730951, z=14.14213562373095), normal=[ 0.         -0.70710678  0.70710678]))\n",
      "Grating(line_density=1100.0, energy=80.0, cff=2.25, order=1.0, dimensions=[1. 1. 3.])\n"
     ]
    }
   ],
   "source": [
    "print(mirror)\n",
    "print(grating)"
   ]
  },
  {
   "cell_type": "code",
   "execution_count": null,
   "id": "6442240f-49d6-4903-8cd7-e45e49c5456c",
   "metadata": {},
   "outputs": [],
   "source": []
  }
 ],
 "metadata": {
  "kernelspec": {
   "display_name": "Python 3 (ipykernel)",
   "language": "python",
   "name": "python3"
  },
  "language_info": {
   "codemirror_mode": {
    "name": "ipython",
    "version": 3
   },
   "file_extension": ".py",
   "mimetype": "text/x-python",
   "name": "python",
   "nbconvert_exporter": "python",
   "pygments_lexer": "ipython3",
   "version": "3.8.13"
  }
 },
 "nbformat": 4,
 "nbformat_minor": 5
}
